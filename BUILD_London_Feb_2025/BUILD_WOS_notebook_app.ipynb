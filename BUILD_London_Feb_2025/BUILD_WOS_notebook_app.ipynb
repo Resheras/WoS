{
 "metadata": {
  "kernelspec": {
   "display_name": "Streamlit Notebook",
   "name": "streamlit"
  },
  "lastEditStatus": {
   "notebookId": "bxcewj2dtigtcpenlfoz",
   "authorId": "689440261664",
   "authorName": "ANASTEF",
   "authorEmail": "resheras@gmail.com",
   "sessionId": "bb96d5eb-d665-49de-9d4e-fa6738a1de0b",
   "lastEditTime": 1738065137339
  }
 },
 "nbformat_minor": 5,
 "nbformat": 4,
 "cells": [
  {
   "cell_type": "markdown",
   "id": "9f757ba1-aa56-442c-b9d1-44217c2f834c",
   "metadata": {
    "name": "Welcome",
    "collapsed": false
   },
   "source": "![Join us](https://github.com/Resheras/WoS/blob/a69a0322c359c6f4aaee7cedcd788c13a839a14e/Welcome_WoS.png?raw=true)"
  },
  {
   "cell_type": "markdown",
   "id": "b8268f15-7baa-4e64-aa25-32cc0c00d3ba",
   "metadata": {
    "name": "Join_us",
    "collapsed": false,
    "resultHeight": 41
   },
   "source": "Isa: Placeholder for First slide: Welcome form women on Snowflake\n![Join us](https://github.com/Resheras/WoS/blob/main/Join_WoS.png?raw=true)"
  },
  {
   "cell_type": "markdown",
   "id": "b2112c76-0c19-469a-9ed2-95f253dc98ae",
   "metadata": {
    "name": "End_data_disparity",
    "collapsed": false,
    "resultHeight": 92
   },
   "source": "Isa: End data disparity - link to the whitepaper. What data disparity is. Salary gap and economic inequality. Bias in data and decision making. What is the role of data and uncover inequalities. How about we show you how to analyze data to discover the bias.\nhttps://www.snowflake.com/en/company/overview/end-data-disparity/\n![End data disparity](https://raw.githubusercontent.com/Resheras/WoS/refs/heads/main/end_dd.png)\n"
  },
  {
   "cell_type": "markdown",
   "id": "b100c4f5-3947-4d38-a399-a7848a1be6bf",
   "metadata": {
    "collapsed": false,
    "name": "How_it_usually_begins",
    "resultHeight": 195
   },
   "source": "## Instead of %pip or 🍺brew or 🟢conda - add package in dropdown\n\nNotebooks come with pre-installed common Python libraries, such as numpy, pandas, matplotlib, and more! \n\nFor the purpose of this demo, let's add the `matplotlib` and `scipy` package from the package picker⬆️⬆️⬆️."
  },
  {
   "cell_type": "code",
   "execution_count": null,
   "id": "75d25856-380e-4e01-831c-47189920d1fa",
   "metadata": {
    "codeCollapsed": false,
    "language": "python",
    "name": "Your_typical_analyst_notebook",
    "collapsed": false,
    "resultHeight": 0
   },
   "outputs": [],
   "source": [
    "# Import Python packages used in this notebook\n",
    "import streamlit as st\n",
    "import altair as alt\n",
    "\n",
    "# Pre-installed libraries that comes with the notebook\n",
    "import pandas as pd\n",
    "import numpy as np\n",
    "\n",
    "# Package that we just added\n",
    "import matplotlib.pyplot as plt"
   ]
  },
  {
   "cell_type": "markdown",
   "id": "8ff8e747-4a94-4f91-a971-e0f86bdc073a",
   "metadata": {
    "collapsed": false,
    "name": "SQL",
    "resultHeight": 102
   },
   "source": "## Let's start with a SQL cell \n\nSnowflake Notebooks allow us to switch between different languages. "
  },
  {
   "cell_type": "code",
   "execution_count": null,
   "id": "726b8b95-674b-4191-a29d-2c850f27fd68",
   "metadata": {
    "codeCollapsed": false,
    "collapsed": false,
    "language": "sql",
    "name": "Select_star",
    "resultHeight": 439
   },
   "outputs": [],
   "source": "SELECT * \nFROM SALARY_DATA"
  },
  {
   "cell_type": "markdown",
   "id": "267782b8-f7b2-4c4e-86b8-106371c5a1dd",
   "metadata": {
    "name": "Data_source",
    "collapsed": false
   },
   "source": "If you are interested in the data we used, you can find it in Kaggle: \n* https://www.kaggle.com/datasets/nilimajauhari/glassdoor-analyze-gender-pay-gap"
  },
  {
   "cell_type": "markdown",
   "id": "a42cefaa-d16b-4eb7-8a7e-f297095351b1",
   "metadata": {
    "collapsed": false,
    "name": "Python",
    "resultHeight": 342
   },
   "source": "## Back to Python 🐍\n\nYou can give cells a name and refer to its output in subsequent cells.\n\nWe can access the SQL results directly in Python and convert the results to a pandas dataframe. 🐼\n\n```python\n# Access the SQL cell output as a Snowpark dataframe\nmy_snowpark_df = Select_star.to_df()\n``` \n\n```python\n# Convert a SQL cell output into a pandas dataframe\nmy_df = Select_star.to_pandas()\n``` "
  },
  {
   "cell_type": "code",
   "execution_count": null,
   "id": "f2338253-c62a-4da1-b52b-569f23282689",
   "metadata": {
    "codeCollapsed": false,
    "collapsed": false,
    "language": "python",
    "name": "df_create",
    "resultHeight": 0
   },
   "outputs": [],
   "source": "df = Select_star.to_pandas()\ndf[\"TOTAL_SALARY\"]=df[\"BASEPAY\"]+df[\"BONUS\"]"
  },
  {
   "cell_type": "code",
   "id": "fada0586-1069-45ab-a108-25b20d53ea81",
   "metadata": {
    "language": "python",
    "name": "df_describe",
    "collapsed": false,
    "resultHeight": 439
   },
   "outputs": [],
   "source": "df.describe()",
   "execution_count": null
  },
  {
   "cell_type": "markdown",
   "id": "794ab8c4-7725-44b0-bec8-72dc48bb7b89",
   "metadata": {
    "collapsed": false,
    "name": "Snowpark",
    "resultHeight": 195
   },
   "source": [
    "## Working with data using Snowpark 🛠️\n",
    "\n",
    "In addition to using your favorite Python data science libraries, you can also use the [Snowpark API](https://docs.snowflake.com/en/developer-guide/snowpark/index) to query and process your data at scale within the Notebook. \n",
    "\n",
    "First, you can get your session variable directly through the active notebook session. The session variable is the entrypoint that gives you access to using Snowflake's Python API."
   ]
  },
  {
   "cell_type": "code",
   "execution_count": null,
   "id": "3775908f-ca36-4846-8f38-5adca39217f2",
   "metadata": {
    "codeCollapsed": false,
    "language": "python",
    "name": "Snowpark_session",
    "collapsed": false,
    "resultHeight": 0
   },
   "outputs": [],
   "source": [
    "from snowflake.snowpark.context import get_active_session\n",
    "session = get_active_session()\n",
    "# Add a query tag to the session. This helps with troubleshooting and performance monitoring.\n",
    "session.query_tag = {\"origin\":\"sf_sit-is\", \n",
    "                     \"name\":\"notebook_demo_pack\", \n",
    "                     \"version\":{\"major\":1, \"minor\":0},\n",
    "                     \"attributes\":{\"is_quickstart\":1, \"source\":\"notebook\", \"vignette\":\"my_first_notebook\"}}"
   ]
  },
  {
   "cell_type": "markdown",
   "id": "0573e8eb-70fd-4a3a-b96e-07dc53a0c21b",
   "metadata": {
    "collapsed": false,
    "name": "writeback",
    "resultHeight": 41
   },
   "source": [
    "For example, we can use Snowpark to save our pandas dataframe back to a table in Snowflake. 💾"
   ]
  },
  {
   "cell_type": "code",
   "execution_count": null,
   "id": "7acbc323-c2ec-44c9-a846-3f47c218af1e",
   "metadata": {
    "codeCollapsed": false,
    "collapsed": false,
    "language": "python",
    "name": "writeback_table",
    "resultHeight": 439
   },
   "outputs": [],
   "source": "session.write_pandas(df,\"SALARY_NEW_TABLE\",auto_create_table=True, table_type=\"temp\")"
  },
  {
   "cell_type": "markdown",
   "id": "471a58ea-eddd-456e-b94d-8d09ce330738",
   "metadata": {
    "collapsed": false,
    "name": "df_from_table",
    "resultHeight": 182
   },
   "source": "Now that the `SALARY_NEW_TABLE` table has been created, we can do another way around 🔄 : \n\n```python\ndf = session.table(\"<DATABASE_NAME>.<SCHEMA_NAME>.<TABLE_NAME>\")\n```\n\nIf your session is already set to the database and schema for the table you want to access, then you can reference the table name directly."
  },
  {
   "cell_type": "code",
   "execution_count": null,
   "id": "c695373e-ac74-4b62-a1f1-08206cbd5c81",
   "metadata": {
    "codeCollapsed": false,
    "collapsed": false,
    "language": "python",
    "name": "df_salary_new_table",
    "resultHeight": 0
   },
   "outputs": [],
   "source": "new_df = session.table(\"SALARY_NEW_TABLE\")"
  },
  {
   "cell_type": "markdown",
   "id": "6af5c4af-7432-400c-abc3-53d0ca098362",
   "metadata": {
    "name": "Snowpark_describe",
    "resultHeight": 67
   },
   "source": [
    "Once we have loaded the table, we can call Snowpark's [`describe`](https://docs.snowflake.com/en/developer-guide/snowpark/reference/python/latest/snowpark/api/snowflake.snowpark.DataFrame.describe) to compute basic descriptive statistics. "
   ]
  },
  {
   "cell_type": "code",
   "execution_count": null,
   "id": "d636ed2e-5030-4661-99c8-96b086d25530",
   "metadata": {
    "codeCollapsed": false,
    "language": "python",
    "name": "new_df_describe",
    "collapsed": false,
    "resultHeight": 252
   },
   "outputs": [],
   "source": "new_df.describe()"
  },
  {
   "cell_type": "markdown",
   "id": "4319acb1-dc60-4087-94dd-6f661e8d532c",
   "metadata": {
    "collapsed": false,
    "name": "Viz",
    "resultHeight": 102
   },
   "source": [
    "## 📊 Visualize your data\n",
    "\n",
    "We can use [Altair](https://altair-viz.github.io/) to easily visualize our data distribution as a histogram."
   ]
  },
  {
   "cell_type": "markdown",
   "id": "17a6cbb1-5488-445b-a81f-5caec127b519",
   "metadata": {
    "collapsed": false,
    "name": "Viz_lib",
    "resultHeight": 93
   },
   "source": [
    "Let's say that you want to customize your chart and plot the kernel density estimate (KDE) and median. We can use matplotlib to plot the price distribution. Note that the `.plot` command uses `scipy` under the hood to compute the KDE profile, which we added as a package earlier in this tutorial."
   ]
  },
  {
   "cell_type": "code",
   "execution_count": null,
   "id": "e0b78b8f-3de6-4863-9eec-d07c0e848d67",
   "metadata": {
    "codeCollapsed": false,
    "collapsed": false,
    "language": "python",
    "name": "Hist",
    "resultHeight": 646
   },
   "outputs": [],
   "source": "fig, ax = plt.subplots(figsize = (6,3))\nplt.tick_params(left = False, right = False , labelleft = False) \n\nmin_salary = min(df['TOTAL_SALARY'])\nmax_salary = max(df['TOTAL_SALARY'])\nbin_size = 10000\n\nprice = df[\"TOTAL_SALARY\"]\nprice.plot(kind = \"hist\", density = True, bins = range(min_salary, max_salary + bin_size, bin_size))\nprice.plot(kind=\"kde\", color='#c44e52')\n\n\n# Calculate percentiles\nmedian = price.median()\nax.axvline(median,0, color='#dd8452', ls='--')\nax.text(median,0.8, f'Median: {median:.2f}  ',\n        ha='right', va='center', color='#dd8452', transform=ax.get_xaxis_transform())\n\n# Make our chart pretty\nplt.style.use(\"bmh\")\nplt.title(\"Total Salary Distribution\")\nplt.xlabel(\"Total Salary (binned)\")\nleft, right = plt.xlim()   \nplt.xlim((0, right))  \n# Remove ticks and spines\nax.tick_params(left = False, bottom = False)\nfor ax, spine in ax.spines.items():\n    spine.set_visible(False)\n\nplt.show()"
  },
  {
   "cell_type": "markdown",
   "id": "708cf9f8-79d4-4978-ac87-1a493257557a",
   "metadata": {
    "name": "Viz_compare_libs",
    "collapsed": false,
    "resultHeight": 42
   },
   "source": "Good start, but we want to compare data by gender. Let's do it with `matplotlib.pyplot` as `plt`:"
  },
  {
   "cell_type": "code",
   "id": "54de4a07-be48-41ed-9f49-e7c0a3186101",
   "metadata": {
    "language": "python",
    "name": "Viz_compare_lib",
    "collapsed": false,
    "resultHeight": 799
   },
   "outputs": [],
   "source": "# Parameters\n#bin_size = 10000\n\n# Split the DataFrame by GENDER\nmale_salaries = df[df['GENDER'] == 'Male']['TOTAL_SALARY']\nfemale_salaries = df[df['GENDER'] == 'Female']['TOTAL_SALARY']\n\n# Determine the range of bins\n#min_salary = min(df['BASEPAY'])\n#max_salary = max(df['BASEPAY'])\nbins = range(min_salary, max_salary + bin_size, bin_size)\n\n# Plot histograms\nplt.figure(figsize=(6, 4))\n\nplt.hist(male_salaries, bins=bins, alpha=0.5, label='Male', color='green', edgecolor='black')\nplt.hist(female_salaries, bins=bins, alpha=0.5, label='Female', color='blue', edgecolor='black')\n\n# Add labels and legend\nplt.title('Salary Distribution by Gender')\nplt.xlabel('Salary')\nplt.ylabel('Frequency')\nplt.legend(bbox_to_anchor=(1, 1))\nplt.grid(axis='y', linestyle='--', alpha=0.7)\n\n# Show the plot\nplt.tight_layout()\nplt.show()",
   "execution_count": null
  },
  {
   "cell_type": "markdown",
   "id": "378bb2bf-0cd8-4ef6-88da-320129c8b372",
   "metadata": {
    "name": "Segment",
    "collapsed": false
   },
   "source": "I wonder - how does it look on different levels on seniority?"
  },
  {
   "cell_type": "markdown",
   "id": "6d4ccea6-a7f6-4c3b-8dcc-920701efb2e7",
   "metadata": {
    "collapsed": false,
    "name": "Threshold",
    "resultHeight": 342
   },
   "source": "## Using Python variables in SQL cells 🔖\n\nYou can use the Jinja syntax `{{..}}` to refer to Python variables within your SQL queries as follows. \n\n```python\nthreshold = 5\n```\n\n```sql\n-- Reference Python variable in SQL\nSELECT * FROM SALARY_NEW_TABLE where SENIORITY > {{threshold}}\n```\n\nLet's put this in practice to generate a distribution of values for ratings based on the mean and standard deviation values we set with Python."
  },
  {
   "cell_type": "code",
   "execution_count": null,
   "id": "3fb85963-53ea-46b6-be96-c164c397539a",
   "metadata": {
    "codeCollapsed": false,
    "language": "python",
    "name": "Seniotrity",
    "collapsed": false,
    "resultHeight": 0
   },
   "outputs": [],
   "source": "seniority = 3 "
  },
  {
   "cell_type": "code",
   "execution_count": null,
   "id": "8f1e59cc-3d51-41c9-bd8d-2f600e7c6b61",
   "metadata": {
    "codeCollapsed": false,
    "language": "sql",
    "name": "SQL_param",
    "collapsed": false,
    "resultHeight": 439
   },
   "outputs": [],
   "source": "SELECT * FROM SALARY_NEW_TABLE where SENIORITY > {{seniority}}"
  },
  {
   "cell_type": "markdown",
   "id": "e1d99691-578d-4df2-a1c1-cde4ee7e1cd0",
   "metadata": {
    "collapsed": false,
    "name": "Streamlit",
    "resultHeight": 127
   },
   "source": [
    "## Creating an interactive app with Streamlit 🪄\n",
    "\n",
    "Putting this all together, let's build a Streamlit app to explore how different parameters impacts the shape of the data distribution histogram."
   ]
  },
  {
   "cell_type": "code",
   "execution_count": null,
   "id": "9fe67464-68f5-4bcf-a40d-684a58e3a44d",
   "metadata": {
    "codeCollapsed": false,
    "collapsed": false,
    "language": "python",
    "name": "Streamlit_app",
    "resultHeight": 1352
   },
   "outputs": [],
   "source": "import streamlit as st\nst.markdown(\"# Move the slider to adjust and watch the results update! 👇\")\ncol1, col2 = st.columns(2)\nwith col1:\n    seniority = st.slider('SENIORITY threshold',1,5,1) \n\n# Read table from Snowpark and plot the results\ndf = session.sql(\n    f\"\"\"\n    SELECT * FROM SALARY_NEW_TABLE where SENIORITY = {seniority};\n    \"\"\"\n    ).to_pandas()\n\n# Split the DataFrame by GENDER\nmale_salaries = df[df['GENDER'] == 'Male']['TOTAL_SALARY']\nfemale_salaries = df[df['GENDER'] == 'Female']['TOTAL_SALARY']\n\n# Determine the range of bins\nmin_salary = min(df['TOTAL_SALARY'])\nmax_salary = max(df['TOTAL_SALARY'])\nbins = range(min_salary, max_salary + bin_size, bin_size)\n\n# Plot histograms\nplt.figure(figsize=(6, 4))\n\nplt.hist(male_salaries, bins=bins, alpha=0.5, label='Male', color='green', edgecolor='black')\nplt.hist(female_salaries, bins=bins, alpha=0.5, label='Female', color='blue', edgecolor='black')\n\n# Add labels and legend\nplt.title('Salary Distribution by Gender')\nplt.xlabel('Salary')\nplt.ylabel('Frequency')\nplt.legend(bbox_to_anchor=(1, 1))\nplt.grid(axis='y', linestyle='--', alpha=0.7)\n\n# Show the plot\nplt.tight_layout()\nplt.show()\n\ndf.describe()"
  },
  {
   "cell_type": "markdown",
   "id": "4a4ae672-c170-4c92-9ed4-1552686536a1",
   "metadata": {
    "name": "Thank_you",
    "collapsed": false,
    "resultHeight": 722
   },
   "source": "![test](https://github.com/Resheras/WoS/blob/main/Join_WoS.png?raw=true)"
  },
  {
   "cell_type": "code",
   "id": "7aa45dc8-87f5-4563-9387-9fb1cde46a32",
   "metadata": {
    "language": "sql",
    "name": "Dig_deeper",
    "resultHeight": 252,
    "collapsed": false
   },
   "outputs": [],
   "source": "with agg as (\nSELECT JOBTITLE, GENDER, AVG(BASEPAY + BONUS) as TOTAL_SALARY\nFROM SALARY_DATA\ngroup by 1,2\norder by 1\n),\npvt as (\nselect * from agg PIVOT (sum (TOTAL_SALARY) for GENDER IN (ANY ORDER BY GENDER)) as G (JOB, F, M)\n)\nselect *, M-F as gap from pvt where F < M order by 4 desc",
   "execution_count": null
  }
 ]
}