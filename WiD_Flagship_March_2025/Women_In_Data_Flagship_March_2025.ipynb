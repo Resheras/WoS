{
 "metadata": {
  "kernelspec": {
   "display_name": "Streamlit Notebook",
   "name": "streamlit"
  },
  "lastEditStatus": {
   "notebookId": "ou53nn6qlkcmlcwiyo7i",
   "authorId": "689440261664",
   "authorName": "ANASTEF",
   "authorEmail": "resheras@gmail.com",
   "sessionId": "57bbf18c-1e4e-4a31-8413-41f98c09d4e5",
   "lastEditTime": 1741964013457
  }
 },
 "nbformat_minor": 5,
 "nbformat": 4,
 "cells": [
  {
   "cell_type": "markdown",
   "id": "973a5eaa-aca8-466d-8240-fadc0e4029da",
   "metadata": {
    "name": "_0_Welcome",
    "collapsed": false,
    "resultHeight": 327
   },
   "source": "# Welcome from Women on Snowflake!\n\n**Setting the Scene: Data Disparity in Health**  \nData disparity in health is a major challenge, and we're taking a data-driven approach to solve it. With a focus on conditions like endometriosis, what better place than Snowflake, The Data Cloud, to drive change?  \nExplore more: ❄️ [Data Disparity Overview](https://www.snowflake.com/en/company/overview/end-data-disparity/)\n\n---\n\n## Speakers\n\n| **Speaker**             | **LinkedIn QR Code** |\n| ----------------------- | --------------------- |\n|❄️ [Anastasiia Stefanska](https://www.linkedin.com/in/anastasiastefanska/)   | ![Anastasiia LinkedIn QR](https://api.qrserver.com/v1/create-qr-code/?data=https://www.linkedin.com/in/anastasiastefanska/&size=100x100) |\n|❄️ [Isabella Renzetti](https://www.linkedin.com/search/results/all/?fetchDeterministicClustersOnly=true&heroEntityKey=urn%3Ali%3Afsd_profile%3AACoAABFxIHABAocOnzckmeYMs4s2-7vpyxPhO1w&keywords=isabella%20renzetti&origin=RICH_QUERY_SUGGESTION&position=0&searchId=66e25045-f97f-4a21-bb24-d6bf632ce236&sid=06o&spellCorrectionEnabled=false)       | ![Isabella LinkedIn QR](https://api.qrserver.com/v1/create-qr-code/?data=https://www.linkedin.com/in/isabellarenzetti/&size=100x100) |\n|❄️ [Daria Maslovets]( https://www.linkedin.com/in/daria-maslovets/)         | ![Daria LinkedIn QR](https://api.qrserver.com/v1/create-qr-code/?data=https://www.linkedin.com/in/daria-maslovets&size=100x100) |\n\n\n\n\n\n\n\n\n*Scan the QR code to connect on LinkedIn.*\n\n---\n\n## Women on Snowflake Group\n\nConnect with us on LinkedIn:  \n![Women on Snowflake LinkedIn QR](https://api.qrserver.com/v1/create-qr-code/?data=https://www.linkedin.com/company/women-on-snowflake&size=100x100)  \n❄️ [Women on Snowflake LinkedIn Page](https://www.linkedin.com/company/women-on-snowflake)\n\n---\n\n\n## Agenda for the Hands-On Lab\n\n1. **Setting Up the Environment** 🎯  \n   Create databases, schemas, and set the working context.\n\n2. **Quick Cortex Queries** 🎯  \n   Ask Snowflake a quick question using Cortex and get instant insights.\n\n3. **Processing Reports with Cortex** 🎯  \n   Parse and summarize lengthy documents with OCR.\n\n4. **Cortex Search & Streamlit Integration** 🎯  \n   Explore study data and view search results in a live app.\n\n5. **ML Classification with Snowflake Native ML** 🎯  \n   Build and evaluate a classification model on endometriosis data.\n\n6. **Interactive Q&A and Wrap-Up** 🎯  \n   Discuss findings, share experiences, and answer questions.\n\n---\n\n## What You'll Learn:\n\n\n ✅ **Set up your Snowflake environment** – Create databases, schemas, and warehouses.  \n ✅ **Use Snowflake Cortex** – Analyze unstructured data and process reports with AI-powered search.  \n ✅ **Build interactive dashboards with Streamlit** – Explore study data in real-time.  \n ✅ **Run SQL and Machine Learning models** – Query, transform, and classify real-world datasets.  \n\nBy the end, you’ll be equipped to process reports, apply ML models, and build interactive apps—all within Snowflake!\n\n---\n\n## Data You'll Use\n\nStay updated with our resource pages:  \n- **Data Disparity in Health**  \n ❄️ [Visit Page](https://www.snowflake.com/en/company/overview/end-data-disparity/)  \n  ![Data Disparity QR](https://api.qrserver.com/v1/create-qr-code/?data=https://www.snowflake.com/en/company/overview/end-data-disparity/&size=100x100)  \n  *(Date: 2025-02-25)*\n\n- **Endometriosis Resource**  \n ❄️ [Visit Page](https://www.who.int/news-room/fact-sheets/detail/endometriosis)  \n  ![Endometriosis QR](https://api.qrserver.com/v1/create-qr-code/?data=https://www.who.int/news-room/fact-sheets/detail/endometriosis&size=100x100)  \n  *(Date: 2025-02-25)*\n\n\nLet's go and use data and Snowflake Data Cloud to drive change in health!\n\n\n\n---\n---\n\n\n## ❄️ source link | 🎯 main point | ℹ️ information | 🔔 **explanation** | ⏰ pause\n\n---\n\n### ℹ️ What is Snowflake Cortex?\nSnowflake Cortex allows to analyze unstructured data and build generative AI applications using fully managed LLMs, RAG and text-to-SQL services. It enables multiple users to use AI services with no-code, SQL and REST API interfaces.\n\n❄️ Explore more: [Cortex](https://docs.snowflake.com/en/guides-overview-ai-features)\n\n### ℹ️ What is Streamlit?\nStreamlit is an open-source Python framework for data scientists and AI/ML engineers to deliver interactive data apps.\n\n❄️ Explore more: [Streamlit]( https://docs.snowflake.com/en/developer-guide/streamlit/about-streamlit)\n\n### ℹ️ What is Cortex Search?\nCortex Search enables low-latency, high-quality “fuzzy” search over your Snowflake data. Cortex Search powers a broad array of search experiences for Snowflake users including Retrieval Augmented Generation (RAG) applications leveraging Large Language Models (LLMs).\n\n❄️ Explore more: [Cortex Search]( https://docs.snowflake.com/en/user-guide/snowflake-cortex/cortex-search/cortex-search-overview)"
  },
  {
   "cell_type": "markdown",
   "id": "09f45b70-5ff8-4903-8c09-d5ce40d8d1cd",
   "metadata": {
    "name": "_1_Set_up_Snowflake_environment",
    "collapsed": false
   },
   "source": "## 🎯 1. Set Up the Snowflake Environment  \n\n1️⃣ **Sign up** for a **Snowflake free 30-day trial**: ❄️ [Snowflake Demo Account](https://signup.snowflake.com/)  \n\n   ![Snowflake Signup QR Code](https://api.qrserver.com/v1/create-qr-code/?data=https://signup.snowflake.com/&size=100x100)\n\n   - Select **Enterprise edition** (recommended)  \n   - Choose **AWS US West Oregon**   \n\n\n2️⃣ **Activate & Log in**  \n   - Check your **email** for the activation link and login URL  \n   - Sign in using your **registered username and password**   \n   \n\nYou're now ready to explore Snowflake! 🚀  \n\n"
  },
  {
   "cell_type": "code",
   "id": "be8495f8-5e2c-4ffc-a97f-34c15c13e623",
   "metadata": {
    "language": "sql",
    "name": "_1_Create_and_Setup_Database_Schema"
   },
   "outputs": [],
   "source": "-- Creates a new database for organizing event-related data. \n-- CREATE DATABASE WID_EVENT; \n\n-- Creates a schema inside the database to store and organize your data.\n-- CREATE SCHEMA WID_DEMO;\n\n-- Set the current database to WID_EVENT\n USE DATABASE WID_EVENT;\n\n-- Sets the working schema to WID_DEMO for querying and data management.\n USE SCHEMA WID_DEMO; \n",
   "execution_count": null
  },
  {
   "cell_type": "markdown",
   "id": "4268ba1d-e189-4278-b8a7-b22e2444b788",
   "metadata": {
    "name": "_1_Import_Notebook",
    "collapsed": false
   },
   "source": "Now you are ready to import the notebook from Git: use database and schema you have created!\n\n# ❄️[Git_WiD_Notebook_Flagship_March_2025](https://tinyurl.com/8zxemde8)\n\n# https://tinyurl.com/8zxemde8\n"
  },
  {
   "cell_type": "markdown",
   "id": "58517491-ac8b-4bd4-8261-3d8a26f88439",
   "metadata": {
    "name": "Pause1_5_min",
    "collapsed": false
   },
   "source": "⏰ 5 Minutes Pause - time to import Notebook!"
  },
  {
   "cell_type": "markdown",
   "id": "94b78082-dd8a-4744-a434-be26e3729857",
   "metadata": {
    "name": "_2_Query_Cortex",
    "collapsed": false
   },
   "source": "## 🎯 2: Query Cortex for a Quick Answer\n\nImagine you're a researcher or a healthcare professional looking for quick insights on endometriosis. Instead of manually searching through multiple sources, what if you could just ask Snowflake and get an instant answer?\n\nThat's where Snowflake Cortex comes in! 🚀\n\nLet’s start by asking Cortex a simple question:\n\n🧠 **\"What is endometriosis?\"**\n\nWith a single SQL query, Cortex processes the request using AI-powered text generation and provides a concise, AI-generated response.\n###\n### ℹ️ How It Works:\nThis query taps into **Llama3 AI** via **Cortex**, generating a quick summary **without pulling data from external sources**."
  },
  {
   "cell_type": "code",
   "id": "c48f2e16-1164-41ca-9fe4-7b5e9dd87c4a",
   "metadata": {
    "language": "sql",
    "name": "_2_Cortex_Generate_Short_Answer",
    "collapsed": false,
    "resultHeight": 112
   },
   "outputs": [],
   "source": "-- It asks the Cortex model to generate a one-sentence answer to the question about endometriosis.\n--The answer is AI-generated and not directly pulled from external sources\nSELECT SNOWFLAKE.CORTEX.COMPLETE(\n    'llama3.2-3b',\n    'What is endometriosis? Give 1 sentence answer'\n    ) AS answer;",
   "execution_count": null
  },
  {
   "cell_type": "code",
   "id": "f6a7053c-d488-4ed6-a68e-3d78802bcf33",
   "metadata": {
    "language": "python",
    "name": "_2_Display_Cortex_Response",
    "collapsed": false,
    "resultHeight": 110
   },
   "outputs": [],
   "source": "# Display the result\n_2_Cortex_Generate_Short_Answer.to_df().first()",
   "execution_count": null
  },
  {
   "cell_type": "markdown",
   "id": "bf247478-94ce-44d7-98ec-58a3a494d088",
   "metadata": {
    "name": "_2_Quick_Summary_with_Cortex",
    "collapsed": false,
    "resultHeight": 91
   },
   "source": "**ℹ️ Quick Summary with Cortex**\n\nThink of Cortex as your **AI-powered assistant** in Snowflake.\n\nInstead of spending hours reading reports, you can **automate summarization** and focus on what truly matters.\n#####\n**What’s Next?**  \nNow that you’ve seen how Cortex answers questions instantly, let’s explore how it can process and summarize entire documents!"
  },
  {
   "cell_type": "markdown",
   "id": "051bb889-7f76-42d3-a128-bb7b9629f971",
   "metadata": {
    "name": "Pause2_2_min",
    "collapsed": false
   },
   "source": "⏰ 2 Minutes Pause - time to ask Cortex a question!"
  },
  {
   "cell_type": "markdown",
   "id": "b8f785b3-41ed-452d-9817-331bd3cd3927",
   "metadata": {
    "name": "_3_Processing_Report",
    "collapsed": false
   },
   "source": "## 🎯 3: Processing a Report with Cortex \n\nℹ️ Imagine this scenario: You’re working with a lengthy medical report on endometriosis. Instead of manually scanning through pages of text, you need a fast and efficient way to extract and summarize key information.\n\nThis is where Snowflake Cortex comes in!    With AI-powered document processing, we can:  \n✔ Extract text from a PDF using OCR (Optical Character Recognition)  \n✔ Store the extracted content for easy access  \n✔ Summarize the document to focus on the most important insights  \n\nLet’s walk through the process step by step.\n###\n\n**Adding a file for analysis**\n\n❄️ [World Health Organization - Endometriosis](https://www.who.int/news-room/fact-sheets/detail/endometriosis)\n\n###\n\n### **Step 1: Create a Stage for the Report**  \nBefore we can analyze the document, we need to store it in Snowflake."
  },
  {
   "cell_type": "code",
   "id": "d11007d9-6f5f-48ad-bf7b-7f8e9318cc5a",
   "metadata": {
    "language": "sql",
    "name": "_3a_Creating_Stage_for_Report",
    "resultHeight": 112,
    "collapsed": false
   },
   "outputs": [],
   "source": "-- \nCREATE or ALTER stage WID_REPORT\n    ENCRYPTION = ( TYPE = 'SNOWFLAKE_SSE');\n\n\n-- Add a file you want to analyze\n-- we are using WHO file  from this page: https://www.who.int/news-room/fact-sheets/detail/endometriosis\nLIST @WID_REPORT;",
   "execution_count": null
  },
  {
   "cell_type": "markdown",
   "id": "1c417eec-9c18-40ee-af4c-d7c386cc1423",
   "metadata": {
    "name": "Pause3_5_min",
    "collapsed": false
   },
   "source": "⏰ 5 Minutes Pause - time to load file EndometriosisWHO.pdf to stage!"
  },
  {
   "cell_type": "markdown",
   "id": "44d81c5b-c12f-4044-b1e6-60408e8c6cb5",
   "metadata": {
    "name": "_3b_Creating_Stage_for_Report",
    "collapsed": false
   },
   "source": "**🔔 What’s happening here?**  \nWe create a storage stage (WID_REPORT) to hold the file.\nEncryption ensures data security.  \nThe LIST command checks if the file is available for processing.  \n\n❄️ Explore more: [Tutorial: Create a document processing pipeline with Document AI](https://docs.snowflake.com/en/user-guide/snowflake-cortex/document-ai/tutorials/create-processing-pipelines#introduction)\n\nNow, the report is ready to be analyzed!\n\n###\n### **Step 2: Extract Text from the PDF**\nNow that the report is in Snowflake, let’s use Cortex OCR to convert the document into readable text."
  },
  {
   "cell_type": "code",
   "id": "00fa1718-5b35-442e-8157-14ffdc09e783",
   "metadata": {
    "language": "sql",
    "name": "_3c_Parse_PDF_Report",
    "collapsed": false,
    "resultHeight": 112
   },
   "outputs": [],
   "source": "--https://docs.snowflake.com/en/sql-reference/functions/parse_document-snowflake-cortex\nSELECT (\n    SNOWFLAKE.CORTEX.PARSE_DOCUMENT(\n        '@WID_EVENT.WID_DEMO.WID_REPORT',\n        'EndometriosisWHO.pdf',\n        {'mode': 'OCR'})\n    ) AS OCR;",
   "execution_count": null
  },
  {
   "cell_type": "markdown",
   "id": "e9423bd8-27fa-42f9-9e14-9fa2a797d746",
   "metadata": {
    "name": "_3d_Parse_PDF_Report",
    "collapsed": false
   },
   "source": "**🔔 What’s happening here?**  \n\nCortex OCR scans the WHO endometriosis report and extracts all text.\nThis allows us to query, search, and analyze the document like any other dataset.  \n\nWhy is this important?  \nInstead of manually reading the entire report, we can now work with its content as structured data!\n\n❄️ Explore more: [PARSE_DOCUMENT](https://docs.snowflake.com/en/sql-reference/functions/parse_document-snowflake-cortex)"
  },
  {
   "cell_type": "markdown",
   "id": "03e917b4-c2ab-4fc0-92ad-823e1467eb58",
   "metadata": {
    "name": "_3e_Store_Parse_Result",
    "collapsed": false
   },
   "source": "### **Step 3: Store the Parse Result**\n\nWe now store the extracted text in a table for easy access and further processing.\n\nWhy store the result?\n\n- Keeps the text structured and accessible for future queries.\n- Makes it easy to retrieve and process the extracted content."
  },
  {
   "cell_type": "code",
   "id": "6c8014a3-0849-45aa-b055-ecefe36c70cf",
   "metadata": {
    "language": "sql",
    "name": "_3f_Store_Parse_Result",
    "collapsed": false,
    "resultHeight": 112
   },
   "outputs": [],
   "source": "CREATE OR REPLACE TABLE PARSE_RESULT AS\nSELECT * FROM {{_3c_Parse_PDF_Report}};",
   "execution_count": null
  },
  {
   "cell_type": "markdown",
   "id": "003fddd5-3028-4ee2-a2d5-3694abffb12d",
   "metadata": {
    "name": "_3g_Summarize_Parsed_Content",
    "collapsed": false
   },
   "source": "### **Step 4: Summarize the Parsed Content**\n\nInstead of reading the full text, let’s use Cortex AI to summarize it into key points.\n\n**🔔 What’s happening here?**\n\nCortex analyzes the extracted text and generates a concise summary.\nThis helps us focus on key insights rather than reading the entire document.\n\nWhy is this useful?\n- Quickly grasp key findings without scanning through pages.\n- Useful for researchers, analysts, and decision-makers who need quick insights.\n\n\nNow, we have a concise summary of the report—generated in just a few steps!\n"
  },
  {
   "cell_type": "code",
   "id": "d2f6bcd4-fae2-4737-b5d9-306f0da190f6",
   "metadata": {
    "language": "sql",
    "name": "_3g_Summarize_Parsed_Content_SQL",
    "collapsed": false,
    "resultHeight": 112
   },
   "outputs": [],
   "source": "SELECT SNOWFLAKE.CORTEX.SUMMARIZE(\n    SELECT SUBSTRING(TO_VARCHAR(OCR:content), 0, 32768) FROM PARSE_RESULT\n);",
   "execution_count": null
  },
  {
   "cell_type": "code",
   "id": "88cbd359-367a-480f-b39c-6bc5b4b91341",
   "metadata": {
    "language": "python",
    "name": "_3h_Displaying_Summary",
    "collapsed": false,
    "resultHeight": 240
   },
   "outputs": [],
   "source": "_3g_Summarize_Parsed_Content_SQL.to_df().first()",
   "execution_count": null
  },
  {
   "cell_type": "markdown",
   "id": "eea34af6-4b85-4d13-bac6-f1c1b8549095",
   "metadata": {
    "name": "Pause4_2_min",
    "collapsed": false
   },
   "source": "⏰ 2 Minutes Pause - time to catch up!"
  },
  {
   "cell_type": "markdown",
   "id": "63d49ab0-de2b-4460-ba68-fd93683e2431",
   "metadata": {
    "name": "_4_Cortex_Integration",
    "collapsed": false,
    "resultHeight": 68
   },
   "source": "## 🎯 4: Cortex Search and Streamlit Integration \nBefore diving into AI-powered search and visualization, we first need to prepare and explore the data. By leveraging Snowflake Cortex and Streamlit, we can analyze real-world research on endometriosis to better understand the current state of medical studies.\n\nThe following link contains different Endometrios studies:  \n❄️ [National Library of Medicine - Endometriosis studies](https://clinicaltrials.gov/search?cond=Endometriosis )\n\nLet’s walk through the process step by step.\n\n### **Step 1: Preparing Study Data**\nTo begin, we need to set up a structured table where we will store research data.\n\nWhy is this important?\n\n- The table will store summaries of studies, their primary focus, and key outcome measures.\n- This will allow us to search, filter, and analyze the research data more effectively.  \n\nNext, we create a secure stage to store the raw study data before importing it into Snowflake.\n\nFinally, we define a file format to correctly interpret the CSV study data."
  },
  {
   "cell_type": "code",
   "id": "b360a408-460c-4ae6-aa95-4973eee5b66b",
   "metadata": {
    "language": "sql",
    "name": "_4a_Preparing_Study_Data",
    "resultHeight": 112,
    "collapsed": false
   },
   "outputs": [],
   "source": "-- Create a Table for Studies\nCREATE OR REPLACE TABLE ENDO_STUDIES(\n  SUMMARY VARCHAR,\n  STUDY VARCHAR, \n  PRIMARY_OUTCOME_MEASURES VARCHAR,\n  SECONDARY_OUTCOME_MEASURES VARCHAR\n);\n\n-- Set Up a Stage for Studies Data\nCREATE OR ALTER STAGE WID_STUDIES\n  ENCRYPTION = (TYPE = 'SNOWFLAKE_SSE');\n\n-- Create a CSV File Format\nCREATE OR REPLACE FILE FORMAT my_csv \n  TYPE = CSV, \n  SKIP_HEADER = 1,\n  FIELD_OPTIONALLY_ENCLOSED_BY = '\"';\n\nLIST @WID_STUDIES;",
   "execution_count": null
  },
  {
   "cell_type": "markdown",
   "id": "004d7915-bc99-4bf4-8577-1d3d02607951",
   "metadata": {
    "name": "Pause5_2_min",
    "collapsed": false
   },
   "source": "⏰ 2 Minutes Pause - time to load file WID_Endo_studies_list_for_Cortex.csv to stage!"
  },
  {
   "cell_type": "markdown",
   "id": "c0680336-6df0-48fa-98a0-b151d146557f",
   "metadata": {
    "name": "_4b_Preparing_Study_Data",
    "collapsed": false
   },
   "source": "Our database and storage stage are ready for the research data!  \n\nNow that we’ve set up the structure, let’s import the study data from a CSV file.\n- The data now becomes queryable inside Snowflake.\n- We can apply AI-powered search and analysis on structured research data."
  },
  {
   "cell_type": "code",
   "id": "dcf46794-855c-45ec-995b-b493a5f65bdc",
   "metadata": {
    "language": "sql",
    "name": "_4c_Importing_Study_Data",
    "resultHeight": 112,
    "collapsed": false
   },
   "outputs": [],
   "source": "-- Import the Data\nCOPY INTO ENDO_STUDIES FROM\n(SELECT $6, $2, $10, $11\n FROM '@wid_studies/WID_Endo_studies_list_for_Cortex.csv'\n (FILE_FORMAT => my_csv)\n)\nFORCE = TRUE;",
   "execution_count": null
  },
  {
   "cell_type": "code",
   "id": "5fadf5c8-d1fe-42a2-a3c0-2113bd0a6705",
   "metadata": {
    "language": "sql",
    "name": "_4d_Exploring_Study_Data",
    "collapsed": false,
    "resultHeight": 439
   },
   "outputs": [],
   "source": "-- Let’s verify that our imported research data is correctly stored in Snowflake.\nSELECT * FROM ENDO_STUDIES;",
   "execution_count": null
  },
  {
   "cell_type": "markdown",
   "id": "b3a4c911-3187-4f46-ba8e-61b09694c59c",
   "metadata": {
    "name": "_4e_Creating_and_Querying_Cortex_Search_Service",
    "collapsed": false
   },
   "source": "🔜 **What’s Next?**\nNow that our data is ready, we can:\n- Use Cortex Search to quickly find relevant studies.\n- Build an interactive research dashboard using Streamlit.\n- Gain insights into trends and patterns in endometriosis research.\n\n###\n### **Step 2: Creating and Querying the Cortex Search Service**\n\nNow that we have research data loaded, the next step is making it **searchable and easy to explore**.  \nInstead of manually filtering through study summaries, we can use **Cortex Search** to find relevant studies instantly.  \nLet’s **set up a search service**, index the data, and run a **query** to find studies related to **prevention**.\n\n######\nBefore we can search, we need to create a search service that indexes our study data:\n\n"
  },
  {
   "cell_type": "code",
   "id": "c1207640-a55c-4ca5-b593-762b1084ae52",
   "metadata": {
    "language": "sql",
    "name": "_4f_Creating_and_Querying_Cortex_Search_Service",
    "resultHeight": 0,
    "collapsed": false
   },
   "outputs": [],
   "source": "-- Create the Search Service\nCREATE OR REPLACE CORTEX SEARCH SERVICE study_search_service\n  ON study\n  ATTRIBUTES summary\n  WAREHOUSE = COMPUTE_WH\n  TARGET_LAG = '1 day'\n  EMBEDDING_MODEL = 'snowflake-arctic-embed-m-v1.5'\n  AS (\n    SELECT\n        summary,\n        study,\n        primary_outcome_measures\n    FROM ENDO_STUDIES\n);",
   "execution_count": null
  },
  {
   "cell_type": "markdown",
   "id": "44013a5a-0bdb-4f65-85cf-bab7a9db4627",
   "metadata": {
    "name": "_4g_Creating_and_Querying_Cortex_Search_Service",
    "collapsed": false
   },
   "source": "🔔 **What’s happening here?**\n\n- We create a search service that lets us query the ENDO_STUDIES table.\n- It indexes the study summaries, titles, and outcomes for faster retrieval.\n- The EMBEDDING_MODEL improves search relevance by understanding context.\n\nNow, we have an AI-powered search engine for our research data!\n\n######\nOur search service is ready, let’s now run a query to find studies about prevention:"
  },
  {
   "cell_type": "code",
   "id": "fb746f52-64ca-48cf-a75e-5d478bc827a7",
   "metadata": {
    "language": "sql",
    "name": "_4h_Query_Search_Service",
    "collapsed": false,
    "resultHeight": 112
   },
   "outputs": [],
   "source": "-- Query the Search Service\nSELECT PARSE_JSON(\n  SNOWFLAKE.CORTEX.SEARCH_PREVIEW(\n      'wid_event.wid_demo.study_search_service',\n      '{\n        \"query\": \"prevention\",\n        \"columns\":[\n            \"summary\",\n            \"study\"\n        ]\n      }'\n  )\n)['results'] as results;",
   "execution_count": null
  },
  {
   "cell_type": "markdown",
   "id": "0e73e77e-c355-45c9-85e5-d668f06cd2d1",
   "metadata": {
    "name": "_4i_Streamlite_Code",
    "collapsed": false
   },
   "source": "🔔 **What’s happening here?**\n\n- We search for studies related to \"prevention\" using Cortex Search.\n- The query looks for matches in the summary and study columns.\n- The results are returned as a structured JSON format for easy interpretation.\n\nNow, we can instantly find relevant research studies based on keywords!\n\n\n🔜 **What’s Next?**  \nNow that we can search studies with AI, we can:\n- Refine search queries to find specific research topics.\n- Use Streamlit to create an interactive search app for better visualization.\n- Analyze key patterns in endometriosis research.\n\n###\n### **Step 3: Streamlit Code for Cortex AI Search**\n\nNow that we have **Cortex Search set up**, let’s make it **more interactive**!   \nInstead of manually writing queries, we’ll build a Streamlit app that allows users to search the study data using a simple interface.\n\nWith just a few clicks, we will be able to:\n- Enter a **search query**\n- Define **search limits**\n- View **instant results from Cortex AI**\n"
  },
  {
   "cell_type": "code",
   "id": "2b7384cc-6776-4301-94f3-045e1ef05198",
   "metadata": {
    "language": "python",
    "name": "_4j_Streamlite_Code_Cortex_AI",
    "collapsed": false,
    "resultHeight": 2634
   },
   "outputs": [],
   "source": "# Import python packages\nimport streamlit as st\nfrom snowflake.core import Root\nfrom snowflake.snowpark.context import get_active_session\n\n# Constants\nDB = \"WID_EVENT\"\nSCHEMA = \"WID_DEMO\"\nSERVICE = \"study_search_service\"\nBASE_TABLE = \"WID_EVENT.WID_DEMO.ENDO_STUDIES\"\n#ARRAY_ATTRIBUTES = {\"SUMMARY\"}\n\n\ndef get_column_specification():\n    \"\"\"\n    Returns the name of the search column and a list of the names of the attribute columns\n    for the provided cortex search service\n    \"\"\"\n    session = get_active_session()\n    search_service_result = session.sql(f\"DESC CORTEX SEARCH SERVICE {DB}.{SCHEMA}.{SERVICE}\").collect()[0]\n    st.session_state.attribute_columns = search_service_result.attribute_columns.split(\",\")\n    st.session_state.search_column = search_service_result.search_column\n    st.session_state.columns = search_service_result.columns.split(\",\")\n\ndef init_layout():\n    st.title(\"Cortex AI Search\")\n    st.markdown(f\"Querying service: `{DB}.{SCHEMA}.{SERVICE}`\".replace('\"', ''))\n\ndef query_cortex_search_service(query):\n    \"\"\"\n    Queries the cortex search service in the session state and returns a list of results\n    \"\"\"\n    session = get_active_session()\n    cortex_search_service = (\n        Root(session)\n        .databases[DB]\n        .schemas[SCHEMA]\n        .cortex_search_services[SERVICE]\n    )\n    context_documents = cortex_search_service.search(\n        query,\n        columns=st.session_state.columns,\n        limit=st.session_state.limit)\n    return context_documents.results\n\n\n\ndef init_search_input():\n    st.session_state.query = st.text_input(\"Query\")\n\ndef init_limit_input():\n    st.session_state.limit = st.number_input(\"Limit\", min_value=1, value=5)\n\n\ndef display_search_results(results):\n    \"\"\"\n    Display the search results in the UI\n    \"\"\"\n    st.subheader(\"Search results\")\n    for i, result in enumerate(results):\n        result = dict(result)\n        container = st.expander(f\"[Result {i+1}]\", expanded=True)\n\n        # Add the result text.\n        container.markdown(result[st.session_state.search_column])\n\n        # Add the attributes.\n        for column, column_value in sorted(result.items()):\n            if column == st.session_state.search_column:\n                continue\n            container.markdown(f\"**{column}**: {column_value}\")\n\n\ndef main():\n    init_layout()\n    get_column_specification()\n    init_limit_input()\n    init_search_input()\n\n    if not st.session_state.query:\n        return\n    results = query_cortex_search_service(\n        st.session_state.query\n    )\n    display_search_results(results)\n\n\nif __name__ == \"__main__\":\n    #st.set_page_config(page_title=\"Cortex AI Search and Summary\", layout=\"wide\")\n    main()\n\n",
   "execution_count": null
  },
  {
   "cell_type": "markdown",
   "id": "2b4a1154-710b-43ab-a8ed-06ac46878f72",
   "metadata": {
    "name": "_4k_Streamlite_Code_Cortex_AI",
    "collapsed": false
   },
   "source": "🔔 **What's happening here?**\n\nThis script creates a simple Streamlit app for searching study data using Snowflake Cortex Search.\n\nHow It Works:\n\n- Retrieves **searchable columns** from the search service.\n- Displays a **text box** for user input.\n- Runs the **Cortex AI search query** based on the input.\n- Shows the **results interactively** in the app.\n\nNow, users can explore medical research data without writing SQL!"
  },
  {
   "cell_type": "markdown",
   "id": "75313083-d23a-4fec-b627-52801b8cb762",
   "metadata": {
    "name": "Pause6_5_min",
    "collapsed": false
   },
   "source": "⏰ 5 Minutes Pause - time to refresh!"
  },
  {
   "cell_type": "markdown",
   "id": "136c5e51-6bdf-4061-9968-236c7d6ac72b",
   "metadata": {
    "name": "_5_ML_Classification",
    "collapsed": false,
    "resultHeight": 113
   },
   "source": "## 🎯 5. ML Classification with Snowflake Native ML \n\nEndometriosis is often difficult to diagnose due to the wide range of symptoms and delayed medical recognition.  \nWhat if we could use Machine Learning (ML) to help identify patients at risk based on their symptoms?\n\nWith Snowflake Native ML, we can:\n- Prepare structured patient data.\n- Train an ML model to classify diagnosis possibilities.\n- Use Snowflake’s ML capabilities without external tools.\n\nLet’s prepare our dataset to begin this journey.\n\n######\n❄️ [Endometriosis Dataset](https://www.kaggle.com/datasets/michaelanietie/endometriosis-dataset)\n\n![Kaggle Endometriosis Dataset QR Code](https://api.qrserver.com/v1/create-qr-code/?data=https://www.kaggle.com/datasets/michaelanietie/endometriosis-dataset&size=100x100)\n\n\n######\n**Step 1: Preparing the Raw Data**  \nBefore we can apply ML, we need to organize the data in Snowflake: we first define a stage to store incoming patient records:\n\n\n\n"
  },
  {
   "cell_type": "code",
   "id": "9d4f0c6d-ca21-4b53-b866-6d9aee5e07d2",
   "metadata": {
    "language": "sql",
    "name": "_5a_Creating_Stage_for_Raw_Data",
    "collapsed": false,
    "resultHeight": 112
   },
   "outputs": [],
   "source": "-- Create a Stage for Raw Data\nCREATE OR ALTER STAGE WID_RAW_DATA;\n\n-- Let's make sure the data is available before processing\nLIST @WID_RAW_DATA;",
   "execution_count": null
  },
  {
   "cell_type": "markdown",
   "id": "483390dc-5da8-4c51-af07-3251cab875c6",
   "metadata": {
    "name": "Pause7_2_mins",
    "collapsed": false
   },
   "source": "⏰ 2 Minutes Pause - time to load file structured_endometriosis_data.csv to stage!"
  },
  {
   "cell_type": "markdown",
   "id": "69e41dda-eb99-4144-81bd-41dfda36a262",
   "metadata": {
    "name": "_5b_Creating_Sequence",
    "collapsed": false
   },
   "source": "Each record needs a **unique identifier** for tracking. We create a **sequence generator** to automate this.\n\nThen, we define a **structured table** to store patient health metrics and diagnosis labels:"
  },
  {
   "cell_type": "code",
   "id": "0ab21d4e-4ad1-4190-94df-3e1762ca279a",
   "metadata": {
    "language": "sql",
    "name": "_5c_Creating_Sequence_Table",
    "resultHeight": 112,
    "collapsed": false
   },
   "outputs": [],
   "source": "-- Creating a Unique ID for Each Record\nCREATE OR REPLACE SEQUENCE seq_01 START = 1 INCREMENT = 1;\n\n-- Create the Data Table\nCREATE OR REPLACE TABLE ENDO_DATA (\n  ROW_ID NUMBER DEFAULT seq_01.NEXTVAL,\n  AGE NUMBER,\n  MENSTRUAL_IRREGULARITY BOOLEAN,\n  CHRONIC_PAIN_LEVEL NUMBER(38,5),\n  HORMON_LEVEL_ABNORMALITY BOOLEAN,\n  INFERTILITY BOOLEAN,\n  BMI NUMBER(38,5),\n  DIAGNOSIS BOOLEAN\n);",
   "execution_count": null
  },
  {
   "cell_type": "code",
   "id": "ee0cb891-51ed-4eb1-8f1e-681ca45869c2",
   "metadata": {
    "language": "sql",
    "name": "_5e_Explore_Table",
    "collapsed": false
   },
   "outputs": [],
   "source": "SELECT * from ENDO_DATA;",
   "execution_count": null
  },
  {
   "cell_type": "markdown",
   "id": "14157f61-88e1-4e2c-be50-9a252f03b4a9",
   "metadata": {
    "name": "_5d_Creating_Sequence_Table",
    "collapsed": false
   },
   "source": "🔔 **What’s in this table?**\n\n- **Age** → Captures patient age.\n- **Menstrual Irregularity** → Tracks cycle irregularities.\n- **Chronic Pain Level** → Quantifies pain severity.\n- **Hormone Level Abnormality** → Flags hormonal imbalances.\n- **Infertility** → Indicates potential fertility issues.\n- **BMI** → Includes body mass index data.\n- **Diagnosis** → ML will predict this column (1 = endometriosis, 0 = no diagnosis).\n\nNow, we have a structured dataset ready for ML training!\n\n###\n🔜 **What’s Next?**\nNow that we have **patient data organized**, we can:\n- Load real-world patient data into the table.\n- Train an ML model using **Snowflake’s Native ML capabilities**.\n- Predict **endometriosis diagnosis** based on symptoms.\n\n"
  },
  {
   "cell_type": "code",
   "id": "a6ba4279-9e8f-47b6-b51a-c5ff96530b14",
   "metadata": {
    "language": "sql",
    "name": "_5f_Load_Data_into_Table",
    "resultHeight": 112,
    "collapsed": false
   },
   "outputs": [],
   "source": "-- Load Data into the Table\nCOPY INTO ENDO_DATA (\n    AGE,\n    MENSTRUAL_IRREGULARITY,\n    CHRONIC_PAIN_LEVEL,\n    HORMON_LEVEL_ABNORMALITY,\n    INFERTILITY,\n    BMI,\n    DIAGNOSIS\n)\nFROM @WID_RAW_DATA\nFILE_FORMAT = (TYPE = CSV SKIP_HEADER = 1);",
   "execution_count": null
  },
  {
   "cell_type": "code",
   "id": "e71b305a-2406-467f-bbac-a009da4ba40b",
   "metadata": {
    "language": "sql",
    "name": "_5g_Explore_Data",
    "resultHeight": 147,
    "collapsed": false
   },
   "outputs": [],
   "source": "SELECT DIAGNOSIS, COUNT(*) FROM ENDO_DATA GROUP BY 1;",
   "execution_count": null
  },
  {
   "cell_type": "markdown",
   "id": "b5218263-e7b9-4aa4-8852-083508afdfd9",
   "metadata": {
    "name": "_5h_Training_Test_Sets",
    "collapsed": false
   },
   "source": "**Step 2: Splitting Data into Training and Test Sets**\n\nNow that we have a structured dataset, it's time to prepare the data for machine learning. A key step in building an effective ML model is splitting the data into:\n\n- **Training Data (80%)** – Used to teach the model patterns.  \n- **Test Data (20%)** – Used to evaluate how well the model generalizes.\n\nBy separating the data, we ensure that our ML model learns effectively while also being tested on unseen data to check its accuracy.\n\nWe start by randomly selecting **80% of the records** for training:\n\n"
  },
  {
   "cell_type": "code",
   "id": "02d78b42-b532-4c77-817f-4cce0416dd28",
   "metadata": {
    "language": "sql",
    "name": "_5i_Create_Training_Test_Sets",
    "resultHeight": 439,
    "collapsed": false
   },
   "outputs": [],
   "source": "--Create Training Set = 80% of data\nCREATE OR REPLACE TABLE ENDO_DATA_TRAINING AS\nSELECT * FROM ENDO_DATA SAMPLE (80);\n\nSELECT * FROM ENDO_DATA_TRAINING;",
   "execution_count": null
  },
  {
   "cell_type": "markdown",
   "id": "a0a623ed-ca39-4111-86e1-da64cc86c241",
   "metadata": {
    "name": "_5j_Training_Test_Sets",
    "collapsed": false
   },
   "source": "🔔 What is happening here?\n\n- The SAMPLE (80) function randomly selects 80% of the data.\n- We store this selection in ENDO_DATA_TRAINING, which will be used to train the model.\n- The SELECT statement confirms that the training set was created successfully.\n\nNow, we have a training dataset ready for model learning!\n\n####\nThe remaining **20% of the data** is set aside for testing. We ensure that no row from the training set appears in the test set:"
  },
  {
   "cell_type": "code",
   "id": "da5ef537-be15-4627-8061-9227d6c70408",
   "metadata": {
    "language": "sql",
    "name": "_5k_Creating_the_Test_Set",
    "resultHeight": 439,
    "collapsed": false
   },
   "outputs": [],
   "source": "--Create Test Set\nCREATE OR REPLACE TABLE ENDO_DATA_TEST AS\nSELECT * FROM ENDO_DATA\nWHERE ROW_ID NOT IN (\n    SELECT ROW_ID FROM ENDO_DATA_TRAINING\n);\n\nSELECT * FROM ENDO_DATA_TEST;",
   "execution_count": null
  },
  {
   "cell_type": "markdown",
   "id": "70991dae-7229-4d6d-be08-5326f119aa2b",
   "metadata": {
    "name": "_5l_Creating_the_Test_Set",
    "collapsed": false
   },
   "source": "🔔 **What’s happening here?**\n\n- We exclude records already in the training set.\n- This ensures that our test data is completely separate from the training data.\n- The test set will be used to evaluate the ML model’s performance.\n\nNow, we have a separate test dataset for evaluation! \n\n\n\n\n"
  },
  {
   "cell_type": "markdown",
   "id": "e4ac7e63-d22d-4f02-bd72-11f0e4561976",
   "metadata": {
    "name": "_5m_Build_Evaluate_Classification_Model",
    "collapsed": false
   },
   "source": "**Step 3: Build and Evaluate the Classification Model**\n\nNow that our **data is prepared and split into training and test sets**, it's time to **train the ML model**!\n\nWe will use **Snowflake Native ML** to build a **binary classification model** that predicts **whether a patient is likely to be diagnosed with endometriosis** based on their symptoms.\n###\n\nBefore training the model, we create a view that selects only the relevant features for classification."
  },
  {
   "cell_type": "code",
   "id": "284b74c4-ec31-48e3-87e1-e20430444280",
   "metadata": {
    "language": "sql",
    "name": "_5n_Create_View_Binary_Classification",
    "resultHeight": 112,
    "collapsed": false
   },
   "outputs": [],
   "source": "-- Create a View for Binary Classification\nCREATE OR REPLACE VIEW binary_classification_view AS\nSELECT AGE,\n       MENSTRUAL_IRREGULARITY,\n       CHRONIC_PAIN_LEVEL,\n       HORMON_LEVEL_ABNORMALITY,\n       INFERTILITY,\n       BMI,\n       DIAGNOSIS\nFROM ENDO_DATA_TRAINING;\n\n-- View a Sample of the Data\nSELECT * FROM binary_classification_view ORDER BY RANDOM(42) LIMIT 5;\n",
   "execution_count": null
  },
  {
   "cell_type": "markdown",
   "id": "a90d441d-a022-4e7d-97e9-3db0090aadbb",
   "metadata": {
    "name": "_5o_Create_View_Binary_Classification",
    "collapsed": false
   },
   "source": "🔔 **Why create a view?**\n\n- It filters only the relevant columns needed for training the ML model.\n- Keeps the original training dataset intact while focusing on useful features.\n- Allows easy modifications if we need to add or remove features later.\n\nNow, we have a structured dataset for training!"
  },
  {
   "cell_type": "code",
   "id": "cca22dff-92e9-4d15-9638-03a37bb05695",
   "metadata": {
    "language": "sql",
    "name": "_5p_Build_Classification_Model"
   },
   "outputs": [],
   "source": "-- Build the Classification Model\nCREATE OR REPLACE SNOWFLAKE.ML.CLASSIFICATION model_binary(\n    INPUT_DATA => SYSTEM$REFERENCE('view', 'binary_classification_view'),\n    TARGET_COLNAME => 'DIAGNOSIS'\n);",
   "execution_count": null
  },
  {
   "cell_type": "markdown",
   "id": "6ffbeae5-efc0-4f97-b4a9-eb7308d55d8a",
   "metadata": {
    "name": "Pause8_5_mins",
    "collapsed": false
   },
   "source": "⏰ 5 Minutes Pause - time to create a model!"
  },
  {
   "cell_type": "markdown",
   "id": "ff303caa-af6c-4eb9-a9d9-a04afadef3e0",
   "metadata": {
    "name": "_5q_Build_Classification_Model",
    "collapsed": false
   },
   "source": "🔔 **What’s happening here?**\n\n- We use Snowflake’s built-in ML capabilities to create a classification model.\n- The model is trained using binary_classification_view as input.\n- The target column is DIAGNOSIS (0 = No Endometriosis, 1 = Diagnosed).\n\nOur ML model is training!\n\n######\nNow that our **model is trained**, we use it to **predict endometriosis diagnosis** on the test dataset.\n\n"
  },
  {
   "cell_type": "code",
   "id": "62ab83f2-b771-4a35-8801-0426571e3a4e",
   "metadata": {
    "language": "sql",
    "name": "_5r_Generate_Predictions_and_Show_Evaluation_Metrics",
    "resultHeight": 112,
    "collapsed": false
   },
   "outputs": [],
   "source": "--Generate Predictions and Show Evaluation Metrics\nCREATE OR REPLACE TABLE PREDICTION_RESULTS as\nSELECT *, model_binary!PREDICT(INPUT_DATA => {*})\n    AS predictions FROM ENDO_DATA_TEST;",
   "execution_count": null
  },
  {
   "cell_type": "markdown",
   "id": "bef4ba2f-5db9-4bca-a8dd-36d46ede884f",
   "metadata": {
    "name": "_5s_Generate_Predictions_and_Show_Evaluation_Metrics",
    "collapsed": false
   },
   "source": "🔔 **What’s happening here?**\n\n- We apply our trained model (model_binary) to the test dataset (ENDO_DATA_TEST).\n- The model generates predicted diagnosis values (1 = Diagnosed, 0 = Not Diagnosed).\n- The results are stored in PREDICTION_RESULTS for further analysis."
  },
  {
   "cell_type": "code",
   "id": "d5ac0bcf-724f-4277-8349-e6df217702d4",
   "metadata": {
    "language": "sql",
    "name": "_5t_Show_evaluation_metrics",
    "collapsed": false,
    "resultHeight": 287
   },
   "outputs": [],
   "source": "-- 🎯 Show evaluation metrics\nCALL model_binary!SHOW_EVALUATION_METRICS();\n--CALL model_binary!SHOW_GLOBAL_EVALUATION_METRICS();\n--CALL model_binary!SHOW_THRESHOLD_METRICS();\n--CALL model_binary!SHOW_CONFUSION_MATRIX();",
   "execution_count": null
  },
  {
   "cell_type": "markdown",
   "id": "7f3995f0-4736-4e89-a633-a750cefec56b",
   "metadata": {
    "name": "_5u_Show_evaluation_metrics",
    "collapsed": false
   },
   "source": "🔔 **What do these metrics mean?**\n\n\n\n**CALL model_binary!SHOW_EVALUATION_METRICS**() Displays key performance metrics like accuracy, precision, and recall.   \n**SHOW_GLOBAL_EVALUATION_METRICS**() Provides overall model performance across all data.\n**SHOW_THRESHOLD_METRICS**() Helps assess decision threshold impacts.\n**SHOW_CONFUSION_MATRIX**() Shows true positives, false positives, and false negatives to evaluate prediction reliability."
  },
  {
   "cell_type": "code",
   "id": "619e76a8-db5f-487c-bfef-9c29f7c5c0ab",
   "metadata": {
    "language": "sql",
    "name": "_5v_Check_Prediction_Accuracy",
    "collapsed": false,
    "resultHeight": 217
   },
   "outputs": [],
   "source": "-- Check Prediction Accuracy\nWITH a AS (\n    SELECT *,\n           TO_BOOLEAN(UPPER(AS_VARCHAR(PREDICTIONS:class))) AS prediction\n    FROM PREDICTION_RESULTS\n)\nSELECT prediction,\n       diagnosis,\n       prediction = diagnosis AS correct_prediction,\n       COUNT(row_id)\nFROM a\nGROUP BY 1, 2, 3;",
   "execution_count": null
  },
  {
   "cell_type": "code",
   "id": "ed75fd40-ddd6-4799-a434-97697255982f",
   "metadata": {
    "language": "sql",
    "name": "_5w_Balance_Data"
   },
   "outputs": [],
   "source": "--select diagnosis, count(*) from ENDO_DATA_TRAINING group by 1;\nCREATE OR REPLACE TABLE ENDO_DATA_TRAINING_BALANCED_DATA as\n(with a as (select row_id from ENDO_DATA_TRAINING\nwhere diagnosis = false),\nb as (select distinct row_id from a sample (32)),\nc as (select * from ENDO_DATA_TRAINING\nwhere row_id not in (select * from b))\nselect * from c\n);\n\nCREATE OR REPLACE VIEW binary_classification_view_balanced_data AS\nSELECT AGE,\n       MENSTRUAL_IRREGULARITY,\n       CHRONIC_PAIN_LEVEL,\n       HORMON_LEVEL_ABNORMALITY,\n       INFERTILITY,\n       BMI,\n       DIAGNOSIS\nFROM ENDO_DATA_TRAINING_BALANCED_DATA;\n\nCREATE OR REPLACE SNOWFLAKE.ML.CLASSIFICATION model_binary_balanced_data(\n    INPUT_DATA => SYSTEM$REFERENCE('view', 'binary_classification_view_balanced_data'),\n    TARGET_COLNAME => 'DIAGNOSIS'\n);",
   "execution_count": null
  },
  {
   "cell_type": "code",
   "id": "686227a4-f036-45c4-9fa8-b3f1a3a99275",
   "metadata": {
    "language": "sql",
    "name": "_5x_Predict_On_Balanced_Data"
   },
   "outputs": [],
   "source": "--Generate Predictions and Show Evaluation Metrics\nCREATE OR REPLACE TABLE PREDICTION_RESULTS_BALANCED_DATA as\nSELECT *, model_binary_balanced_data!PREDICT(INPUT_DATA => {*})\n    AS predictions FROM ENDO_DATA_TEST;",
   "execution_count": null
  },
  {
   "cell_type": "code",
   "id": "90103d73-8acb-4599-a60f-b3a03c6f774f",
   "metadata": {
    "language": "sql",
    "name": "_5y_Check_New_Prediction_Accuracy"
   },
   "outputs": [],
   "source": "CALL model_binary_balanced_data!SHOW_EVALUATION_METRICS();",
   "execution_count": null
  },
  {
   "cell_type": "markdown",
   "id": "e8a51fb4-829f-49c0-8328-d174010826ce",
   "metadata": {
    "name": "_5z_Compare_Predictions",
    "collapsed": false
   },
   "source": "🔔 **What is happening here**\n\n\n\n**CALL model_binary_balanced_data** is using balanced data with ±50% of rows identified as DIAGNOSIS = TRUE.   \nNew model achieves higher results in both precision and recall for the Class TRUE, which in our data corresponds to diagnosis, compared to model_binary model, where ±40% of data corresponds to same.\n\n\nBy increasing the share of feature representation in the training data we were able to immediately achieve higher model accuracy in predicting the feature without modifying the data.\n\nSolving Data Disparity can save lives."
  },
  {
   "cell_type": "markdown",
   "id": "c83dbd6c-b068-45d9-b3ef-2bc8ba19abde",
   "metadata": {
    "name": "_6_Interactive_Q_A",
    "collapsed": false
   },
   "source": "## 🎯 6. Interactive Q&A and Wrap-Up \n\nThrough this hands-on lab, we explored how Snowflake Native ML can be used to predict endometriosis diagnosis based on patient data. Here’s a recap of what we achieved:\n\n- What insights did you gain from the lab?\n- How can this be applied to real-world challenges?\n- What would you improve or explore further?"
  },
  {
   "cell_type": "markdown",
   "id": "79225696-3f76-4d0c-bc6a-9024f6d59fb3",
   "metadata": {
    "name": "Conclusion",
    "collapsed": false,
    "resultHeight": 41
   },
   "source": "## Conclusion 🔚\n**1. Setting Up:**\nWe created the database, schema, and set the working context.\n\n**2. Cortex Summaries:**\nCortex helps us get short summaries from long reports.\n\n**3. Cortex Search:**\nWe loaded study data, built a Cortex search service, and integrated it with Streamlit.\n\n**4. ML Classification:** \nWe prepared endometriosis data, built a classification model, and evaluated its predictions.\n\nAs a conclusion, we invite you to go deeper into the possibilities of data platforms, as you can see - even small step can help to tackle the **data disparity**."
  },
  {
   "cell_type": "markdown",
   "id": "a8667087-6b6b-48a4-8102-1bf4ec91564f",
   "metadata": {
    "name": "Speakers",
    "collapsed": false
   },
   "source": "## ❄️ Thank you! ❄️\n\n## Speakers\n\n| **Speaker**             | **LinkedIn QR Code** |\n| ----------------------- | --------------------- |\n| ❄️ [Anastasiia Stefanska](https://www.linkedin.com/in/anastasiastefanska/)     | ![Anastasiia LinkedIn QR](https://api.qrserver.com/v1/create-qr-code/?data=https://www.linkedin.com/in/anastasiastefanska/&size=100x100) |\n| ❄️ [Isabella Renzetti](https://www.linkedin.com/search/results/all/?fetchDeterministicClustersOnly=true&heroEntityKey=urn%3Ali%3Afsd_profile%3AACoAABFxIHABAocOnzckmeYMs4s2-7vpyxPhO1w&keywords=isabella%20renzetti&origin=RICH_QUERY_SUGGESTION&position=0&searchId=66e25045-f97f-4a21-bb24-d6bf632ce236&sid=06o&spellCorrectionEnabled=false)        | ![Isabella LinkedIn QR](https://api.qrserver.com/v1/create-qr-code/?data=https://www.linkedin.com/in/isabellarenzetti/&size=100x100) |\n| ❄️ [Daria Maslovets]( https://www.linkedin.com/in/daria-maslovets/)          | ![Daria LinkedIn QR](https://api.qrserver.com/v1/create-qr-code/?data=https://www.linkedin.com/in/daria-maslovets&size=100x100) |\n\n*Scan the QR code to connect on LinkedIn.*\n\n\n\n   \n"
  }
 ]
}