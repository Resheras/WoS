{
 "metadata": {
  "kernelspec": {
   "display_name": "Streamlit Notebook",
   "name": "streamlit"
  },
  "lastEditStatus": {
   "notebookId": "ou53nn6qlkcmlcwiyo7i",
   "authorId": "689440261664",
   "authorName": "ANASTEF",
   "authorEmail": "resheras@gmail.com",
   "sessionId": "46a26d2c-0daa-46e5-90e8-1fef27605a1d",
   "lastEditTime": 1739697432353
  }
 },
 "nbformat_minor": 5,
 "nbformat": 4,
 "cells": [
  {
   "cell_type": "markdown",
   "id": "3d974400-e735-4407-90d0-df984e58965f",
   "metadata": {
    "name": "cell35",
    "collapsed": false,
    "resultHeight": 724
   },
   "source": "![Welcome](https://github.com/Resheras/WoS/blob/main/Welcome_WoS.png?raw=true)"
  },
  {
   "cell_type": "markdown",
   "id": "973a5eaa-aca8-466d-8240-fadc0e4029da",
   "metadata": {
    "name": "cell4",
    "collapsed": false,
    "resultHeight": 327
   },
   "source": "# Welcome from Women on Snowflake!\n\nSet the scene: Data Disparity in Health, example Endometriosis, let's use data driven approach to helping solve this problem! - What better place than Snowflake, The Data Cloud?\n\n## We want to show all the COOL stuff, not just SQL:) \n\nLets go!\n"
  },
  {
   "cell_type": "markdown",
   "id": "09f45b70-5ff8-4903-8c09-d5ce40d8d1cd",
   "metadata": {
    "name": "cell36",
    "collapsed": false
   },
   "source": "1. Set up your demo account: https://signup.snowflake.com/ using AWS US West Oregon\n2. Create basic entities: database, schema.\n"
  },
  {
   "cell_type": "code",
   "id": "be8495f8-5e2c-4ffc-a97f-34c15c13e623",
   "metadata": {
    "language": "sql",
    "name": "cell37"
   },
   "outputs": [],
   "source": "CREATE database WID_EVENT;\nCREATE schema WID_DEMO;\nUSE database WID_EVENT;\nUSE schema WID_DEMO;",
   "execution_count": null
  },
  {
   "cell_type": "markdown",
   "id": "94b78082-dd8a-4744-a434-be26e3729857",
   "metadata": {
    "name": "cell38",
    "collapsed": false
   },
   "source": "Now we can start using the notebook with this database/schema."
  },
  {
   "cell_type": "markdown",
   "id": "bd2851ce-f9ec-4f27-bd60-c5a21b2c470a",
   "metadata": {
    "name": "cell33",
    "collapsed": false,
    "resultHeight": 217
   },
   "source": "## Agenda - Action item - make more general, not feature specific\n1. Using Snowflake Cortex to get Gen AI answer questions for you.\n2. Optimizing our time by using Cortex to summarise unstructured data.\n3. Build interactive dashboards within your Notebook: creating a Streamlit application with Cortex Search to make quick search against a lot of text.\n4. Using build-in Snowflake ML functions to attempt to predict the disease based on symptoms. \n"
  },
  {
   "cell_type": "markdown",
   "id": "a43e3507-d789-4d23-bb8b-7b8e92bd047c",
   "metadata": {
    "name": "cell29",
    "collapsed": false,
    "resultHeight": 46
   },
   "source": "### How about we start with asking Snowflake a question - using CORTEX:"
  },
  {
   "cell_type": "code",
   "id": "c48f2e16-1164-41ca-9fe4-7b5e9dd87c4a",
   "metadata": {
    "language": "sql",
    "name": "cell6",
    "collapsed": false,
    "resultHeight": 112
   },
   "outputs": [],
   "source": "SELECT SNOWFLAKE.CORTEX.COMPLETE('llama3.2-3b', 'What is endometriosis? Give 1 sentence answer') as answer;",
   "execution_count": null
  },
  {
   "cell_type": "code",
   "id": "f6a7053c-d488-4ed6-a68e-3d78802bcf33",
   "metadata": {
    "language": "python",
    "name": "cell30",
    "collapsed": false,
    "resultHeight": 110
   },
   "outputs": [],
   "source": "cell6.to_df().first()",
   "execution_count": null
  },
  {
   "cell_type": "markdown",
   "id": "bf247478-94ce-44d7-98ec-58a3a494d088",
   "metadata": {
    "name": "cell31",
    "collapsed": false,
    "resultHeight": 91
   },
   "source": "### Let's proceed to learn some more - but we don't want to optimize our time reading through long scientific documents. How about we ask Cortex to summarize lengthy reports? We take WHO endo report and save it as pdf, and let magic happen..."
  },
  {
   "cell_type": "code",
   "id": "d11007d9-6f5f-48ad-bf7b-7f8e9318cc5a",
   "metadata": {
    "language": "sql",
    "name": "cell2",
    "resultHeight": 112
   },
   "outputs": [],
   "source": "--https://docs.snowflake.com/en/user-guide/snowflake-cortex/document-ai/tutorials/create-processing-pipelines\nCREATE or ALTER stage WID_REPORT\nENCRYPTION = ( TYPE = 'SNOWFLAKE_SSE');\nLIST @WID_REPORT;",
   "execution_count": null
  },
  {
   "cell_type": "code",
   "id": "1fccb527-4241-4645-9ca6-d7f76d96a882",
   "metadata": {
    "language": "sql",
    "name": "cell20",
    "resultHeight": 112
   },
   "outputs": [],
   "source": "--add a file you want to analyze - we are using WHO file  from this page: https://www.who.int/news-room/fact-sheets/detail/endometriosis\nLIST @WID_REPORT;",
   "execution_count": null
  },
  {
   "cell_type": "code",
   "id": "00fa1718-5b35-442e-8157-14ffdc09e783",
   "metadata": {
    "language": "sql",
    "name": "cell3",
    "collapsed": false,
    "resultHeight": 112
   },
   "outputs": [],
   "source": "--https://docs.snowflake.com/en/sql-reference/functions/parse_document-snowflake-cortex\nSELECT (\n    SNOWFLAKE.CORTEX.PARSE_DOCUMENT(\n        '@WID_EVENT.WID_DEMO.WID_REPORT',\n        'EndometriosisWHO.pdf',\n        {'mode': 'OCR'})\n    ) AS OCR;",
   "execution_count": null
  },
  {
   "cell_type": "code",
   "id": "6c8014a3-0849-45aa-b055-ecefe36c70cf",
   "metadata": {
    "language": "sql",
    "name": "cell18",
    "collapsed": false,
    "resultHeight": 112
   },
   "outputs": [],
   "source": "CREATE or REPLACE TABLE PARSE_RESULT as\nselect * from {{cell3}};",
   "execution_count": null
  },
  {
   "cell_type": "code",
   "id": "d2f6bcd4-fae2-4737-b5d9-306f0da190f6",
   "metadata": {
    "language": "sql",
    "name": "cell19",
    "collapsed": false,
    "resultHeight": 112
   },
   "outputs": [],
   "source": "select SNOWFLAKE.CORTEX.SUMMARIZE(\nselect SUBSTRING(TO_VARCHAR(OCR:content), 0, 32768) from PARSE_RESULT);",
   "execution_count": null
  },
  {
   "cell_type": "code",
   "id": "88cbd359-367a-480f-b39c-6bc5b4b91341",
   "metadata": {
    "language": "python",
    "name": "cell32",
    "collapsed": false,
    "resultHeight": 240
   },
   "outputs": [],
   "source": "cell19.to_df().first()",
   "execution_count": null
  },
  {
   "cell_type": "markdown",
   "id": "63d49ab0-de2b-4460-ba68-fd93683e2431",
   "metadata": {
    "name": "cell21",
    "collapsed": false,
    "resultHeight": 68
   },
   "source": "### Now let's make sure we can educate ourselves with the current state of research. We will use help of Cortex Search and Streamlit."
  },
  {
   "cell_type": "code",
   "id": "b360a408-460c-4ae6-aa95-4973eee5b66b",
   "metadata": {
    "language": "sql",
    "name": "cell22",
    "resultHeight": 112
   },
   "outputs": [],
   "source": "Create or replace table ENDO_STUDIES(\nSUMMARY VARCHAR,\nSTUDY VARCHAR, \nPRIMARY_OUTCOME_MEASURES VARCHAR,\nSECONDARY_OUTCOME_MEASURES VARCHAR);",
   "execution_count": null
  },
  {
   "cell_type": "code",
   "id": "7c8bd0db-ff79-4274-b47d-4324f1dc0fa3",
   "metadata": {
    "language": "sql",
    "name": "cell23",
    "resultHeight": 112
   },
   "outputs": [],
   "source": "CREATE or ALTER stage WID_STUDIES\nENCRYPTION = ( TYPE = 'SNOWFLAKE_SSE' );\n\nLIST @WID_STUDIES;\n--https://clinicaltrials.gov/search?cond=Endometriosis ",
   "execution_count": null
  },
  {
   "cell_type": "code",
   "id": "d8e22d3e-36bd-4279-837b-0ee5218e6bb7",
   "metadata": {
    "language": "sql",
    "name": "cell24",
    "resultHeight": 112
   },
   "outputs": [],
   "source": "CREATE OR REPLACE FILE FORMAT my_csv \nTYPE = CSV, \nSKIP_HEADER = 1,\nFIELD_OPTIONALLY_ENCLOSED_BY = '\"';",
   "execution_count": null
  },
  {
   "cell_type": "code",
   "id": "dcf46794-855c-45ec-995b-b493a5f65bdc",
   "metadata": {
    "language": "sql",
    "name": "cell25",
    "resultHeight": 112
   },
   "outputs": [],
   "source": "COPY INTO ENDO_STUDIES FROM\n(SELECT $6, $2, $10, $11\nFROM '@wid_studies/WID_Endo_studies_list_for_Cortex.csv'\n(FILE_FORMAT => my_csv)\n)\nFORCE = TRUE;",
   "execution_count": null
  },
  {
   "cell_type": "code",
   "id": "5fadf5c8-d1fe-42a2-a3c0-2113bd0a6705",
   "metadata": {
    "language": "sql",
    "name": "cell26",
    "collapsed": false,
    "resultHeight": 439
   },
   "outputs": [],
   "source": "select * from ENDO_STUDIES;",
   "execution_count": null
  },
  {
   "cell_type": "code",
   "id": "c1207640-a55c-4ca5-b593-762b1084ae52",
   "metadata": {
    "language": "sql",
    "name": "cell1",
    "resultHeight": 0
   },
   "outputs": [],
   "source": "CREATE OR REPLACE CORTEX SEARCH SERVICE study_search_service\n  ON study\n  ATTRIBUTES summary\n  WAREHOUSE = COMPUTE_WH\n  TARGET_LAG = '1 day'\n  EMBEDDING_MODEL = 'snowflake-arctic-embed-m-v1.5'\n  AS (\n    SELECT\n        summary,\n        study,\n        primary_outcome_measures\n    FROM ENDO_STUDIES\n);",
   "execution_count": null
  },
  {
   "cell_type": "code",
   "id": "fb746f52-64ca-48cf-a75e-5d478bc827a7",
   "metadata": {
    "language": "sql",
    "name": "cell27",
    "collapsed": false,
    "resultHeight": 112
   },
   "outputs": [],
   "source": "SELECT PARSE_JSON(\n  SNOWFLAKE.CORTEX.SEARCH_PREVIEW(\n      'wid_event.wid_demo.study_search_service',\n      '{\n        \"query\": \"prevention\",\n        \"columns\":[\n            \"summary\",\n            \"study\"\n        ]\n      }'\n  )\n)['results'] as results;",
   "execution_count": null
  },
  {
   "cell_type": "code",
   "id": "2b7384cc-6776-4301-94f3-045e1ef05198",
   "metadata": {
    "language": "python",
    "name": "cell28",
    "collapsed": false,
    "resultHeight": 2634
   },
   "outputs": [],
   "source": "# Import python packages\nimport streamlit as st\nfrom snowflake.core import Root\nfrom snowflake.snowpark.context import get_active_session\n\n# Constants\nDB = \"WID_EVENT\"\nSCHEMA = \"WID_DEMO\"\nSERVICE = \"study_search_service\"\nBASE_TABLE = \"WID_EVENT.WID_DEMO.ENDO_STUDIES\"\n#ARRAY_ATTRIBUTES = {\"SUMMARY\"}\n\n\ndef get_column_specification():\n    \"\"\"\n    Returns the name of the search column and a list of the names of the attribute columns\n    for the provided cortex search service\n    \"\"\"\n    session = get_active_session()\n    search_service_result = session.sql(f\"DESC CORTEX SEARCH SERVICE {DB}.{SCHEMA}.{SERVICE}\").collect()[0]\n    st.session_state.attribute_columns = search_service_result.attribute_columns.split(\",\")\n    st.session_state.search_column = search_service_result.search_column\n    st.session_state.columns = search_service_result.columns.split(\",\")\n\ndef init_layout():\n    st.title(\"Cortex AI Search\")\n    st.markdown(f\"Querying service: `{DB}.{SCHEMA}.{SERVICE}`\".replace('\"', ''))\n\ndef query_cortex_search_service(query):\n    \"\"\"\n    Queries the cortex search service in the session state and returns a list of results\n    \"\"\"\n    session = get_active_session()\n    cortex_search_service = (\n        Root(session)\n        .databases[DB]\n        .schemas[SCHEMA]\n        .cortex_search_services[SERVICE]\n    )\n    context_documents = cortex_search_service.search(\n        query,\n        columns=st.session_state.columns,\n        limit=st.session_state.limit)\n    return context_documents.results\n\n\n\ndef init_search_input():\n    st.session_state.query = st.text_input(\"Query\")\n\ndef init_limit_input():\n    st.session_state.limit = st.number_input(\"Limit\", min_value=1, value=5)\n\n\ndef display_search_results(results):\n    \"\"\"\n    Display the search results in the UI\n    \"\"\"\n    st.subheader(\"Search results\")\n    for i, result in enumerate(results):\n        result = dict(result)\n        container = st.expander(f\"[Result {i+1}]\", expanded=True)\n\n        # Add the result text.\n        container.markdown(result[st.session_state.search_column])\n\n        # Add the attributes.\n        for column, column_value in sorted(result.items()):\n            if column == st.session_state.search_column:\n                continue\n            container.markdown(f\"**{column}**: {column_value}\")\n\n\ndef main():\n    init_layout()\n    get_column_specification()\n    init_limit_input()\n    init_search_input()\n\n    if not st.session_state.query:\n        return\n    results = query_cortex_search_service(\n        st.session_state.query\n    )\n    display_search_results(results)\n\n\nif __name__ == \"__main__\":\n    #st.set_page_config(page_title=\"Cortex AI Search and Summary\", layout=\"wide\")\n    main()\n\n",
   "execution_count": null
  },
  {
   "cell_type": "markdown",
   "id": "136c5e51-6bdf-4061-9968-236c7d6ac72b",
   "metadata": {
    "name": "cell7",
    "collapsed": false,
    "resultHeight": 113
   },
   "source": "### Now let's do some more ML magic! Using Snowflake Native ML CLASSIFICATION, we are going to evaluate the possibility of diagnosis based on the common symptoms. Spoiler alert - it is not an easy task. This is why we are talking about increase awareness and make sure resource are dedicated to this research."
  },
  {
   "cell_type": "code",
   "id": "9d4f0c6d-ca21-4b53-b866-6d9aee5e07d2",
   "metadata": {
    "language": "sql",
    "name": "cell5",
    "collapsed": false,
    "resultHeight": 112
   },
   "outputs": [],
   "source": "CREATE stage WID_RAW_DATA;\n--add file to stage from data tab https://www.kaggle.com/datasets/michaelanietie/endometriosis-dataset\nLIST @WID_RAW_DATA;",
   "execution_count": null
  },
  {
   "cell_type": "code",
   "id": "0ab21d4e-4ad1-4190-94df-3e1762ca279a",
   "metadata": {
    "language": "sql",
    "name": "cell8",
    "resultHeight": 112
   },
   "outputs": [],
   "source": "CREATE OR REPLACE SEQUENCE seq_01 START = 1 INCREMENT = 1;",
   "execution_count": null
  },
  {
   "cell_type": "code",
   "id": "beb6ebf1-c2b3-4762-98ab-a485dc9b69ac",
   "metadata": {
    "language": "sql",
    "name": "cell9",
    "resultHeight": 112
   },
   "outputs": [],
   "source": "CREATE OR REPLACE TABLE ENDO_DATA (\nROW_ID NUMBER DEFAULT seq_01.NEXTVAL,\nAGE NUMBER,\nMENSTRUAL_IRREGULARITY BOOLEAN,\nCHRONIC_PAIN_LEVEL NUMBER(38,5),\nHORMON_LEVEL_ABNORMALITY BOOLEAN,\nINFERTILITY BOOLEAN,\nBMI NUMBER(38,5),\nDIAGNOSIS BOOLEAN\n);\n\nSELECT * from ENDO_DATA;",
   "execution_count": null
  },
  {
   "cell_type": "code",
   "id": "a6ba4279-9e8f-47b6-b51a-c5ff96530b14",
   "metadata": {
    "language": "sql",
    "name": "cell10",
    "resultHeight": 112
   },
   "outputs": [],
   "source": "COPY INTO ENDO_DATA (AGE,MENSTRUAL_IRREGULARITY,CHRONIC_PAIN_LEVEL,HORMON_LEVEL_ABNORMALITY,INFERTILITY,BMI,DIAGNOSIS)\nFROM @WID_RAW_DATA\nFILE_FORMAT = (TYPE = CSV SKIP_HEADER = 1);",
   "execution_count": null
  },
  {
   "cell_type": "code",
   "id": "e71b305a-2406-467f-bbac-a009da4ba40b",
   "metadata": {
    "language": "sql",
    "name": "cell11",
    "resultHeight": 147
   },
   "outputs": [],
   "source": "SELECT diagnosis, count(*) from ENDO_DATA\ngroup by 1;",
   "execution_count": null
  },
  {
   "cell_type": "code",
   "id": "02d78b42-b532-4c77-817f-4cce0416dd28",
   "metadata": {
    "language": "sql",
    "name": "cell12",
    "resultHeight": 439
   },
   "outputs": [],
   "source": "--create training set = 80% of data\nCREATE OR REPLACE TABLE ENDO_DATA_TRAINING as\nSELECT * FROM ENDO_DATA SAMPLE (80);\n\nSELECT * FROM ENDO_DATA_TRAINING;",
   "execution_count": null
  },
  {
   "cell_type": "code",
   "id": "da5ef537-be15-4627-8061-9227d6c70408",
   "metadata": {
    "language": "sql",
    "name": "cell13",
    "resultHeight": 439
   },
   "outputs": [],
   "source": "CREATE OR REPLACE TABLE ENDO_DATA_TEST as\nSELECT * FROM ENDO_DATA\nWHERE ROW_ID NOT IN\n(SELECT ROW_ID FROM ENDO_DATA_TRAINING);\n\nSELECT * FROM ENDO_DATA_TEST;",
   "execution_count": null
  },
  {
   "cell_type": "code",
   "id": "284b74c4-ec31-48e3-87e1-e20430444280",
   "metadata": {
    "language": "sql",
    "name": "cell14",
    "resultHeight": 112
   },
   "outputs": [],
   "source": "CREATE OR REPLACE view binary_classification_view AS\n    SELECT AGE,MENSTRUAL_IRREGULARITY,CHRONIC_PAIN_LEVEL,HORMON_LEVEL_ABNORMALITY,INFERTILITY,BMI,DIAGNOSIS\nFROM ENDO_DATA_TRAINING;\n\nSELECT * FROM binary_classification_view ORDER BY RANDOM(42) LIMIT 5;\n\nCREATE OR REPLACE SNOWFLAKE.ML.CLASSIFICATION model_binary(\n    INPUT_DATA => SYSTEM$REFERENCE('view', 'binary_classification_view'),\n    TARGET_COLNAME => 'DIAGNOSIS'\n);",
   "execution_count": null
  },
  {
   "cell_type": "code",
   "id": "62ab83f2-b771-4a35-8801-0426571e3a4e",
   "metadata": {
    "language": "sql",
    "name": "cell15",
    "resultHeight": 112
   },
   "outputs": [],
   "source": "CREATE OR REPLACE TABLE PREDICTION_RESULTS as\nSELECT *, model_binary!PREDICT(INPUT_DATA => {*})\n    AS predictions FROM ENDO_DATA_TEST;",
   "execution_count": null
  },
  {
   "cell_type": "code",
   "id": "d5ac0bcf-724f-4277-8349-e6df217702d4",
   "metadata": {
    "language": "sql",
    "name": "cell16",
    "collapsed": false,
    "resultHeight": 287
   },
   "outputs": [],
   "source": "CALL model_binary!SHOW_FEATURE_IMPORTANCE();\n--CALL model_binary!SHOW_EVALUATION_METRICS();\n--CALL model_binary!SHOW_GLOBAL_EVALUATION_METRICS();\n--CALL model_binary!SHOW_THRESHOLD_METRICS();\n--CALL model_binary!SHOW_CONFUSION_MATRIX();",
   "execution_count": null
  },
  {
   "cell_type": "code",
   "id": "619e76a8-db5f-487c-bfef-9c29f7c5c0ab",
   "metadata": {
    "language": "sql",
    "name": "cell17",
    "collapsed": false,
    "resultHeight": 217
   },
   "outputs": [],
   "source": "with a as (SELECT *, TO_BOOLEAN(UPPER(AS_VARCHAR(PREDICTIONS:class))) as prediction\nfrom PREDICTION_RESULTS)\nselect prediction, diagnosis, prediction = diagnosis as correct_prediction, count(row_id) from a\ngroup by 1,2,3;",
   "execution_count": null
  },
  {
   "cell_type": "markdown",
   "id": "79225696-3f76-4d0c-bc6a-9024f6d59fb3",
   "metadata": {
    "name": "cell34",
    "collapsed": false,
    "resultHeight": 41
   },
   "source": "As a conclusion, we invite you to go deeper into the possibilities of data platforms, as you can see - even small step can help to tackle the data disparity."
  }
 ]
}